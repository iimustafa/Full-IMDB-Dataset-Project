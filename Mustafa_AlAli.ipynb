{
  "nbformat": 4,
  "nbformat_minor": 0,
  "metadata": {
    "colab": {
      "provenance": [],
      "machine_shape": "hm",
      "gpuType": "A100"
    },
    "kernelspec": {
      "name": "python3",
      "display_name": "Python 3"
    },
    "language_info": {
      "name": "python"
    },
    "accelerator": "GPU"
  },
  "cells": [
    {
      "cell_type": "code",
      "execution_count": 1,
      "metadata": {
        "colab": {
          "base_uri": "https://localhost:8080/"
        },
        "id": "9iOfisJpII_n",
        "outputId": "c13c5796-6372-4c7c-e891-d59a3e6182e0"
      },
      "outputs": [
        {
          "output_type": "stream",
          "name": "stdout",
          "text": [
            "Requirement already satisfied: opencv-python in /usr/local/lib/python3.11/dist-packages (4.11.0.86)\n",
            "Requirement already satisfied: numpy in /usr/local/lib/python3.11/dist-packages (2.0.2)\n"
          ]
        }
      ],
      "source": [
        "pip install opencv-python numpy"
      ]
    },
    {
      "cell_type": "code",
      "source": [
        "!pip install kagglehub"
      ],
      "metadata": {
        "colab": {
          "base_uri": "https://localhost:8080/"
        },
        "id": "gPl9tDboIiXh",
        "outputId": "f2894b8f-ad59-4a96-aeee-18a840307f85"
      },
      "execution_count": 2,
      "outputs": [
        {
          "output_type": "stream",
          "name": "stdout",
          "text": [
            "Requirement already satisfied: kagglehub in /usr/local/lib/python3.11/dist-packages (0.3.11)\n",
            "Requirement already satisfied: packaging in /usr/local/lib/python3.11/dist-packages (from kagglehub) (24.2)\n",
            "Requirement already satisfied: pyyaml in /usr/local/lib/python3.11/dist-packages (from kagglehub) (6.0.2)\n",
            "Requirement already satisfied: requests in /usr/local/lib/python3.11/dist-packages (from kagglehub) (2.32.3)\n",
            "Requirement already satisfied: tqdm in /usr/local/lib/python3.11/dist-packages (from kagglehub) (4.67.1)\n",
            "Requirement already satisfied: charset-normalizer<4,>=2 in /usr/local/lib/python3.11/dist-packages (from requests->kagglehub) (3.4.1)\n",
            "Requirement already satisfied: idna<4,>=2.5 in /usr/local/lib/python3.11/dist-packages (from requests->kagglehub) (3.10)\n",
            "Requirement already satisfied: urllib3<3,>=1.21.1 in /usr/local/lib/python3.11/dist-packages (from requests->kagglehub) (2.3.0)\n",
            "Requirement already satisfied: certifi>=2017.4.17 in /usr/local/lib/python3.11/dist-packages (from requests->kagglehub) (2025.1.31)\n"
          ]
        }
      ]
    },
    {
      "cell_type": "code",
      "source": [
        "!nvidia-smi"
      ],
      "metadata": {
        "colab": {
          "base_uri": "https://localhost:8080/"
        },
        "id": "w9fTUVZPnPxN",
        "outputId": "234b95fe-f411-41a4-f54d-3ffe9764c3f4"
      },
      "execution_count": 3,
      "outputs": [
        {
          "output_type": "stream",
          "name": "stdout",
          "text": [
            "Fri Apr 18 12:34:07 2025       \n",
            "+-----------------------------------------------------------------------------------------+\n",
            "| NVIDIA-SMI 550.54.15              Driver Version: 550.54.15      CUDA Version: 12.4     |\n",
            "|-----------------------------------------+------------------------+----------------------+\n",
            "| GPU  Name                 Persistence-M | Bus-Id          Disp.A | Volatile Uncorr. ECC |\n",
            "| Fan  Temp   Perf          Pwr:Usage/Cap |           Memory-Usage | GPU-Util  Compute M. |\n",
            "|                                         |                        |               MIG M. |\n",
            "|=========================================+========================+======================|\n",
            "|   0  NVIDIA A100-SXM4-40GB          Off |   00000000:00:04.0 Off |                    0 |\n",
            "| N/A   30C    P0             48W /  400W |       0MiB /  40960MiB |      0%      Default |\n",
            "|                                         |                        |             Disabled |\n",
            "+-----------------------------------------+------------------------+----------------------+\n",
            "                                                                                         \n",
            "+-----------------------------------------------------------------------------------------+\n",
            "| Processes:                                                                              |\n",
            "|  GPU   GI   CI        PID   Type   Process name                              GPU Memory |\n",
            "|        ID   ID                                                               Usage      |\n",
            "|=========================================================================================|\n",
            "|  No running processes found                                                             |\n",
            "+-----------------------------------------------------------------------------------------+\n"
          ]
        }
      ]
    },
    {
      "cell_type": "code",
      "source": [
        "from google.colab import files\n",
        "files.upload()  # upload kaggle.json\n",
        "\n",
        "!mkdir -p ~/.kaggle\n",
        "!cp kaggle.json ~/.kaggle/\n",
        "!chmod 600 ~/.kaggle/kaggle.json"
      ],
      "metadata": {
        "colab": {
          "base_uri": "https://localhost:8080/",
          "height": 69
        },
        "id": "kVLD7_F9omjh",
        "outputId": "fed2cc7e-b955-4670-810b-217116d3be14"
      },
      "execution_count": 4,
      "outputs": [
        {
          "output_type": "display_data",
          "data": {
            "text/plain": [
              "<IPython.core.display.HTML object>"
            ],
            "text/html": [
              "\n",
              "     <input type=\"file\" id=\"files-91e18cdc-e7dc-49ee-bf16-04ef43258f4c\" name=\"files[]\" multiple disabled\n",
              "        style=\"border:none\" />\n",
              "     <output id=\"result-91e18cdc-e7dc-49ee-bf16-04ef43258f4c\">\n",
              "      Upload widget is only available when the cell has been executed in the\n",
              "      current browser session. Please rerun this cell to enable.\n",
              "      </output>\n",
              "      <script>// Copyright 2017 Google LLC\n",
              "//\n",
              "// Licensed under the Apache License, Version 2.0 (the \"License\");\n",
              "// you may not use this file except in compliance with the License.\n",
              "// You may obtain a copy of the License at\n",
              "//\n",
              "//      http://www.apache.org/licenses/LICENSE-2.0\n",
              "//\n",
              "// Unless required by applicable law or agreed to in writing, software\n",
              "// distributed under the License is distributed on an \"AS IS\" BASIS,\n",
              "// WITHOUT WARRANTIES OR CONDITIONS OF ANY KIND, either express or implied.\n",
              "// See the License for the specific language governing permissions and\n",
              "// limitations under the License.\n",
              "\n",
              "/**\n",
              " * @fileoverview Helpers for google.colab Python module.\n",
              " */\n",
              "(function(scope) {\n",
              "function span(text, styleAttributes = {}) {\n",
              "  const element = document.createElement('span');\n",
              "  element.textContent = text;\n",
              "  for (const key of Object.keys(styleAttributes)) {\n",
              "    element.style[key] = styleAttributes[key];\n",
              "  }\n",
              "  return element;\n",
              "}\n",
              "\n",
              "// Max number of bytes which will be uploaded at a time.\n",
              "const MAX_PAYLOAD_SIZE = 100 * 1024;\n",
              "\n",
              "function _uploadFiles(inputId, outputId) {\n",
              "  const steps = uploadFilesStep(inputId, outputId);\n",
              "  const outputElement = document.getElementById(outputId);\n",
              "  // Cache steps on the outputElement to make it available for the next call\n",
              "  // to uploadFilesContinue from Python.\n",
              "  outputElement.steps = steps;\n",
              "\n",
              "  return _uploadFilesContinue(outputId);\n",
              "}\n",
              "\n",
              "// This is roughly an async generator (not supported in the browser yet),\n",
              "// where there are multiple asynchronous steps and the Python side is going\n",
              "// to poll for completion of each step.\n",
              "// This uses a Promise to block the python side on completion of each step,\n",
              "// then passes the result of the previous step as the input to the next step.\n",
              "function _uploadFilesContinue(outputId) {\n",
              "  const outputElement = document.getElementById(outputId);\n",
              "  const steps = outputElement.steps;\n",
              "\n",
              "  const next = steps.next(outputElement.lastPromiseValue);\n",
              "  return Promise.resolve(next.value.promise).then((value) => {\n",
              "    // Cache the last promise value to make it available to the next\n",
              "    // step of the generator.\n",
              "    outputElement.lastPromiseValue = value;\n",
              "    return next.value.response;\n",
              "  });\n",
              "}\n",
              "\n",
              "/**\n",
              " * Generator function which is called between each async step of the upload\n",
              " * process.\n",
              " * @param {string} inputId Element ID of the input file picker element.\n",
              " * @param {string} outputId Element ID of the output display.\n",
              " * @return {!Iterable<!Object>} Iterable of next steps.\n",
              " */\n",
              "function* uploadFilesStep(inputId, outputId) {\n",
              "  const inputElement = document.getElementById(inputId);\n",
              "  inputElement.disabled = false;\n",
              "\n",
              "  const outputElement = document.getElementById(outputId);\n",
              "  outputElement.innerHTML = '';\n",
              "\n",
              "  const pickedPromise = new Promise((resolve) => {\n",
              "    inputElement.addEventListener('change', (e) => {\n",
              "      resolve(e.target.files);\n",
              "    });\n",
              "  });\n",
              "\n",
              "  const cancel = document.createElement('button');\n",
              "  inputElement.parentElement.appendChild(cancel);\n",
              "  cancel.textContent = 'Cancel upload';\n",
              "  const cancelPromise = new Promise((resolve) => {\n",
              "    cancel.onclick = () => {\n",
              "      resolve(null);\n",
              "    };\n",
              "  });\n",
              "\n",
              "  // Wait for the user to pick the files.\n",
              "  const files = yield {\n",
              "    promise: Promise.race([pickedPromise, cancelPromise]),\n",
              "    response: {\n",
              "      action: 'starting',\n",
              "    }\n",
              "  };\n",
              "\n",
              "  cancel.remove();\n",
              "\n",
              "  // Disable the input element since further picks are not allowed.\n",
              "  inputElement.disabled = true;\n",
              "\n",
              "  if (!files) {\n",
              "    return {\n",
              "      response: {\n",
              "        action: 'complete',\n",
              "      }\n",
              "    };\n",
              "  }\n",
              "\n",
              "  for (const file of files) {\n",
              "    const li = document.createElement('li');\n",
              "    li.append(span(file.name, {fontWeight: 'bold'}));\n",
              "    li.append(span(\n",
              "        `(${file.type || 'n/a'}) - ${file.size} bytes, ` +\n",
              "        `last modified: ${\n",
              "            file.lastModifiedDate ? file.lastModifiedDate.toLocaleDateString() :\n",
              "                                    'n/a'} - `));\n",
              "    const percent = span('0% done');\n",
              "    li.appendChild(percent);\n",
              "\n",
              "    outputElement.appendChild(li);\n",
              "\n",
              "    const fileDataPromise = new Promise((resolve) => {\n",
              "      const reader = new FileReader();\n",
              "      reader.onload = (e) => {\n",
              "        resolve(e.target.result);\n",
              "      };\n",
              "      reader.readAsArrayBuffer(file);\n",
              "    });\n",
              "    // Wait for the data to be ready.\n",
              "    let fileData = yield {\n",
              "      promise: fileDataPromise,\n",
              "      response: {\n",
              "        action: 'continue',\n",
              "      }\n",
              "    };\n",
              "\n",
              "    // Use a chunked sending to avoid message size limits. See b/62115660.\n",
              "    let position = 0;\n",
              "    do {\n",
              "      const length = Math.min(fileData.byteLength - position, MAX_PAYLOAD_SIZE);\n",
              "      const chunk = new Uint8Array(fileData, position, length);\n",
              "      position += length;\n",
              "\n",
              "      const base64 = btoa(String.fromCharCode.apply(null, chunk));\n",
              "      yield {\n",
              "        response: {\n",
              "          action: 'append',\n",
              "          file: file.name,\n",
              "          data: base64,\n",
              "        },\n",
              "      };\n",
              "\n",
              "      let percentDone = fileData.byteLength === 0 ?\n",
              "          100 :\n",
              "          Math.round((position / fileData.byteLength) * 100);\n",
              "      percent.textContent = `${percentDone}% done`;\n",
              "\n",
              "    } while (position < fileData.byteLength);\n",
              "  }\n",
              "\n",
              "  // All done.\n",
              "  yield {\n",
              "    response: {\n",
              "      action: 'complete',\n",
              "    }\n",
              "  };\n",
              "}\n",
              "\n",
              "scope.google = scope.google || {};\n",
              "scope.google.colab = scope.google.colab || {};\n",
              "scope.google.colab._files = {\n",
              "  _uploadFiles,\n",
              "  _uploadFilesContinue,\n",
              "};\n",
              "})(self);\n",
              "</script> "
            ]
          },
          "metadata": {}
        },
        {
          "output_type": "stream",
          "name": "stdout",
          "text": [
            "Saving kaggle.json to kaggle.json\n"
          ]
        }
      ]
    },
    {
      "cell_type": "code",
      "source": [
        "!pip install -q kaggle\n",
        "\n",
        "# Make sure your kaggle.json is already uploaded and in place\n",
        "!kaggle datasets download -d octopusteam/full-imdb-dataset --unzip"
      ],
      "metadata": {
        "colab": {
          "base_uri": "https://localhost:8080/"
        },
        "id": "ERmJpC68nTd3",
        "outputId": "793b64e2-317b-41c7-e3db-35d3f9a5e924"
      },
      "execution_count": 5,
      "outputs": [
        {
          "output_type": "stream",
          "name": "stdout",
          "text": [
            "Dataset URL: https://www.kaggle.com/datasets/octopusteam/full-imdb-dataset\n",
            "License(s): CC0-1.0\n"
          ]
        }
      ]
    },
    {
      "cell_type": "code",
      "source": [
        "!ls"
      ],
      "metadata": {
        "colab": {
          "base_uri": "https://localhost:8080/"
        },
        "id": "cEtS2G8VpILx",
        "outputId": "0cae7de9-4c5f-45f0-d152-5ecdaf9c25e9"
      },
      "execution_count": 6,
      "outputs": [
        {
          "output_type": "stream",
          "name": "stdout",
          "text": [
            "data.csv  kaggle.json  sample_data\n"
          ]
        }
      ]
    },
    {
      "cell_type": "code",
      "source": [
        "import os\n",
        "\n",
        "os.listdir('.')"
      ],
      "metadata": {
        "colab": {
          "base_uri": "https://localhost:8080/"
        },
        "id": "I78DTjP9oG_L",
        "outputId": "2ecefcc7-670e-41ec-9c5d-d53974effeda"
      },
      "execution_count": 7,
      "outputs": [
        {
          "output_type": "execute_result",
          "data": {
            "text/plain": [
              "['.config', 'kaggle.json', 'data.csv', 'sample_data']"
            ]
          },
          "metadata": {},
          "execution_count": 7
        }
      ]
    },
    {
      "cell_type": "code",
      "source": [
        "import numpy as np\n",
        "import pandas as pd\n",
        "import matplotlib.pyplot as plt\n",
        "import seaborn as sns\n",
        "import time\n",
        "from sklearn.metrics import accuracy_score, confusion_matrix\n",
        "import cudf\n",
        "import cuml\n",
        "from cuml.linear_model import LogisticRegression\n",
        "from cuml.model_selection import train_test_split\n",
        "from cuml.preprocessing import StandardScaler"
      ],
      "metadata": {
        "id": "KxrV2Q2Ppd8g"
      },
      "execution_count": 8,
      "outputs": []
    },
    {
      "cell_type": "code",
      "source": [
        "df = cudf.read_csv('data.csv')\n",
        "df.head()"
      ],
      "metadata": {
        "colab": {
          "base_uri": "https://localhost:8080/",
          "height": 323
        },
        "id": "goS7vd1zo_2C",
        "outputId": "1cc3f88f-b74d-468e-a834-9564fb080b53"
      },
      "execution_count": 9,
      "outputs": [
        {
          "output_type": "execute_result",
          "data": {
            "text/plain": [
              "          id                          title   type  \\\n",
              "0  tt0000009                     Miss Jerry  movie   \n",
              "1  tt0000147  The Corbett-Fitzsimmons Fight  movie   \n",
              "2  tt0000502                       Bohemios  movie   \n",
              "3  tt0000574    The Story of the Kelly Gang  movie   \n",
              "4  tt0000591               The Prodigal Son  movie   \n",
              "\n",
              "                         genres  averageRating  numVotes  releaseYear  \n",
              "0                       Romance            5.4       223         1894  \n",
              "1      Documentary, News, Sport            5.3       557         1897  \n",
              "2                          <NA>            3.8        22         1905  \n",
              "3  Action, Adventure, Biography            6.0       983         1906  \n",
              "4                         Drama            5.7        32         1907  "
            ],
            "text/html": [
              "<div>\n",
              "<style scoped>\n",
              "    .dataframe tbody tr th:only-of-type {\n",
              "        vertical-align: middle;\n",
              "    }\n",
              "\n",
              "    .dataframe tbody tr th {\n",
              "        vertical-align: top;\n",
              "    }\n",
              "\n",
              "    .dataframe thead th {\n",
              "        text-align: right;\n",
              "    }\n",
              "</style>\n",
              "<table border=\"1\" class=\"dataframe\">\n",
              "  <thead>\n",
              "    <tr style=\"text-align: right;\">\n",
              "      <th></th>\n",
              "      <th>id</th>\n",
              "      <th>title</th>\n",
              "      <th>type</th>\n",
              "      <th>genres</th>\n",
              "      <th>averageRating</th>\n",
              "      <th>numVotes</th>\n",
              "      <th>releaseYear</th>\n",
              "    </tr>\n",
              "  </thead>\n",
              "  <tbody>\n",
              "    <tr>\n",
              "      <th>0</th>\n",
              "      <td>tt0000009</td>\n",
              "      <td>Miss Jerry</td>\n",
              "      <td>movie</td>\n",
              "      <td>Romance</td>\n",
              "      <td>5.4</td>\n",
              "      <td>223</td>\n",
              "      <td>1894</td>\n",
              "    </tr>\n",
              "    <tr>\n",
              "      <th>1</th>\n",
              "      <td>tt0000147</td>\n",
              "      <td>The Corbett-Fitzsimmons Fight</td>\n",
              "      <td>movie</td>\n",
              "      <td>Documentary, News, Sport</td>\n",
              "      <td>5.3</td>\n",
              "      <td>557</td>\n",
              "      <td>1897</td>\n",
              "    </tr>\n",
              "    <tr>\n",
              "      <th>2</th>\n",
              "      <td>tt0000502</td>\n",
              "      <td>Bohemios</td>\n",
              "      <td>movie</td>\n",
              "      <td>&lt;NA&gt;</td>\n",
              "      <td>3.8</td>\n",
              "      <td>22</td>\n",
              "      <td>1905</td>\n",
              "    </tr>\n",
              "    <tr>\n",
              "      <th>3</th>\n",
              "      <td>tt0000574</td>\n",
              "      <td>The Story of the Kelly Gang</td>\n",
              "      <td>movie</td>\n",
              "      <td>Action, Adventure, Biography</td>\n",
              "      <td>6.0</td>\n",
              "      <td>983</td>\n",
              "      <td>1906</td>\n",
              "    </tr>\n",
              "    <tr>\n",
              "      <th>4</th>\n",
              "      <td>tt0000591</td>\n",
              "      <td>The Prodigal Son</td>\n",
              "      <td>movie</td>\n",
              "      <td>Drama</td>\n",
              "      <td>5.7</td>\n",
              "      <td>32</td>\n",
              "      <td>1907</td>\n",
              "    </tr>\n",
              "  </tbody>\n",
              "</table>\n",
              "</div>"
            ]
          },
          "metadata": {},
          "execution_count": 9
        }
      ]
    },
    {
      "cell_type": "markdown",
      "source": [
        "# Basic EDA with cuDF"
      ],
      "metadata": {
        "id": "-wxSIHxcqWJK"
      }
    },
    {
      "cell_type": "code",
      "source": [
        "# Shape of the dataset\n",
        "print(\"Rows:\", df.shape[0])\n",
        "print(\"Columns:\", df.shape[1])\n",
        "\n",
        "# Data types\n",
        "print(df.dtypes)\n",
        "\n",
        "# Check for nulls\n",
        "print(df.isnull().sum())\n",
        "\n",
        "# Describe numerical features\n",
        "df.describe()"
      ],
      "metadata": {
        "colab": {
          "base_uri": "https://localhost:8080/",
          "height": 603
        },
        "id": "06g5JN7Lp3vk",
        "outputId": "783ba851-7dca-4ac9-ba97-6d44ca8baae9"
      },
      "execution_count": 10,
      "outputs": [
        {
          "output_type": "stream",
          "name": "stdout",
          "text": [
            "Rows: 1056870\n",
            "Columns: 7\n",
            "id                object\n",
            "title             object\n",
            "type              object\n",
            "genres            object\n",
            "averageRating    float64\n",
            "numVotes           int64\n",
            "releaseYear        int64\n",
            "dtype: object\n",
            "id                    0\n",
            "title                 0\n",
            "type                  0\n",
            "genres           102770\n",
            "averageRating    601288\n",
            "numVotes         601288\n",
            "releaseYear      134161\n",
            "dtype: int64\n"
          ]
        },
        {
          "output_type": "execute_result",
          "data": {
            "text/plain": [
              "       averageRating      numVotes    releaseYear\n",
              "count  455582.000000  4.555820e+05  922709.000000\n",
              "mean        6.351876  3.028763e+03    1998.720314\n",
              "std         1.425650  3.281934e+04      27.002609\n",
              "min         1.000000  5.000000e+00    1888.000000\n",
              "25%         5.500000  1.700000e+01    1987.000000\n",
              "50%         6.500000  5.100000e+01    2010.000000\n",
              "75%         7.300000  2.580000e+02    2018.000000\n",
              "max        10.000000  3.033388e+06    2031.000000"
            ],
            "text/html": [
              "<div>\n",
              "<style scoped>\n",
              "    .dataframe tbody tr th:only-of-type {\n",
              "        vertical-align: middle;\n",
              "    }\n",
              "\n",
              "    .dataframe tbody tr th {\n",
              "        vertical-align: top;\n",
              "    }\n",
              "\n",
              "    .dataframe thead th {\n",
              "        text-align: right;\n",
              "    }\n",
              "</style>\n",
              "<table border=\"1\" class=\"dataframe\">\n",
              "  <thead>\n",
              "    <tr style=\"text-align: right;\">\n",
              "      <th></th>\n",
              "      <th>averageRating</th>\n",
              "      <th>numVotes</th>\n",
              "      <th>releaseYear</th>\n",
              "    </tr>\n",
              "  </thead>\n",
              "  <tbody>\n",
              "    <tr>\n",
              "      <th>count</th>\n",
              "      <td>455582.000000</td>\n",
              "      <td>4.555820e+05</td>\n",
              "      <td>922709.000000</td>\n",
              "    </tr>\n",
              "    <tr>\n",
              "      <th>mean</th>\n",
              "      <td>6.351876</td>\n",
              "      <td>3.028763e+03</td>\n",
              "      <td>1998.720314</td>\n",
              "    </tr>\n",
              "    <tr>\n",
              "      <th>std</th>\n",
              "      <td>1.425650</td>\n",
              "      <td>3.281934e+04</td>\n",
              "      <td>27.002609</td>\n",
              "    </tr>\n",
              "    <tr>\n",
              "      <th>min</th>\n",
              "      <td>1.000000</td>\n",
              "      <td>5.000000e+00</td>\n",
              "      <td>1888.000000</td>\n",
              "    </tr>\n",
              "    <tr>\n",
              "      <th>25%</th>\n",
              "      <td>5.500000</td>\n",
              "      <td>1.700000e+01</td>\n",
              "      <td>1987.000000</td>\n",
              "    </tr>\n",
              "    <tr>\n",
              "      <th>50%</th>\n",
              "      <td>6.500000</td>\n",
              "      <td>5.100000e+01</td>\n",
              "      <td>2010.000000</td>\n",
              "    </tr>\n",
              "    <tr>\n",
              "      <th>75%</th>\n",
              "      <td>7.300000</td>\n",
              "      <td>2.580000e+02</td>\n",
              "      <td>2018.000000</td>\n",
              "    </tr>\n",
              "    <tr>\n",
              "      <th>max</th>\n",
              "      <td>10.000000</td>\n",
              "      <td>3.033388e+06</td>\n",
              "      <td>2031.000000</td>\n",
              "    </tr>\n",
              "  </tbody>\n",
              "</table>\n",
              "</div>"
            ]
          },
          "metadata": {},
          "execution_count": 10
        }
      ]
    },
    {
      "cell_type": "code",
      "source": [
        "# Convert cuDF dataframe to pandas for string manipulation\n",
        "df_pandas = df.to_pandas()\n",
        "\n",
        "# Define the function to count genres\n",
        "def count_genres(genre_str):\n",
        "    return len(genre_str.split(',')) if genre_str else 0\n",
        "\n",
        "# Apply the function to count genres\n",
        "df_pandas['numGenres'] = df_pandas['genres'].apply(count_genres)\n",
        "\n",
        "# Convert back to cuDF\n",
        "df['numGenres'] = cudf.Series(df_pandas['numGenres'])\n",
        "\n",
        "# Check the new feature\n",
        "df['numGenres'].describe()"
      ],
      "metadata": {
        "colab": {
          "base_uri": "https://localhost:8080/"
        },
        "id": "pzp0Jwroq_th",
        "outputId": "d8a31ec4-bfc8-4e2d-c1ea-938bf5534ee5"
      },
      "execution_count": 11,
      "outputs": [
        {
          "output_type": "execute_result",
          "data": {
            "text/plain": [
              "count    1.056870e+06\n",
              "mean     1.339028e+00\n",
              "std      8.278430e-01\n",
              "min      0.000000e+00\n",
              "25%      1.000000e+00\n",
              "50%      1.000000e+00\n",
              "75%      2.000000e+00\n",
              "max      3.000000e+00\n",
              "Name: numGenres, dtype: float64"
            ]
          },
          "metadata": {},
          "execution_count": 11
        }
      ]
    },
    {
      "cell_type": "code",
      "source": [
        "# Drop rows with null values in any of the relevant columns\n",
        "df = df.dropna(subset=['averageRating', 'numVotes', 'releaseYear'])\n",
        "\n",
        "# Convert columns to CuPy arrays again\n",
        "num_genres = df['numGenres'].values\n",
        "avg_rating = df['averageRating'].values\n",
        "num_votes = df['numVotes'].values\n",
        "release_year = df['releaseYear'].values"
      ],
      "metadata": {
        "id": "Q62g12JctPhZ"
      },
      "execution_count": 12,
      "outputs": []
    },
    {
      "cell_type": "code",
      "source": [
        "# Create a new feature: decade\n",
        "df['decade'] = (df['releaseYear'] // 10) * 10\n",
        "df['decade'] = df['decade'].astype('int32')\n",
        "\n",
        "# Check the new feature\n",
        "df['decade'].value_counts()"
      ],
      "metadata": {
        "colab": {
          "base_uri": "https://localhost:8080/"
        },
        "id": "T963sVyMqwOo",
        "outputId": "8a007995-5934-4ccd-838c-9ec783325934"
      },
      "execution_count": 13,
      "outputs": [
        {
          "output_type": "execute_result",
          "data": {
            "text/plain": [
              "decade\n",
              "2010    141100\n",
              "2020     81865\n",
              "2000     71812\n",
              "1990     38528\n",
              "1980     33018\n",
              "1970     27616\n",
              "1960     20090\n",
              "1950     14436\n",
              "1930      9543\n",
              "1940      9419\n",
              "1920      4790\n",
              "1910      3075\n",
              "1900       124\n",
              "1890        12\n",
              "1880         1\n",
              "Name: count, dtype: int64"
            ]
          },
          "metadata": {},
          "execution_count": 13
        }
      ]
    },
    {
      "cell_type": "markdown",
      "source": [
        "**Distribution of Genres Using cuDF**"
      ],
      "metadata": {
        "id": "piK2hHHbswLZ"
      }
    },
    {
      "cell_type": "code",
      "source": [
        "import cudf\n",
        "import cupy as cp\n",
        "import matplotlib.pyplot as plt\n",
        "import seaborn as sns\n",
        "\n",
        "# Convert the cuDF DataFrame 'numGenres' to a CuPy array for GPU-accelerated plotting\n",
        "num_genres = df['numGenres'].values  # This gives a CuPy ndarray directly\n",
        "\n",
        "# Plot the distribution of the 'numGenres' column (GPU accelerated with CuPy)\n",
        "plt.figure(figsize=(10, 6))\n",
        "sns.histplot(cp.asnumpy(num_genres), bins=4, kde=False, color='blue')  # Convert to NumPy for plotting\n",
        "plt.title('Distribution of Number of Genres per Movie')\n",
        "plt.xlabel('Number of Genres')\n",
        "plt.ylabel('Count')\n",
        "plt.show()"
      ],
      "metadata": {
        "colab": {
          "base_uri": "https://localhost:8080/",
          "height": 425
        },
        "id": "jzVwBhhGsWZH",
        "outputId": "3efe66d0-2c01-449c-f261-46909a32edc8"
      },
      "execution_count": 14,
      "outputs": [
        {
          "output_type": "display_data",
          "data": {
            "text/plain": [
              "<Figure size 1000x600 with 1 Axes>"
            ],
            "image/png": "[encoded data removed]"
          },
          "metadata": {}
        }
      ]
    },
    {
      "cell_type": "markdown",
      "source": [
        "**Correlation Analysis Using cuML**"
      ],
      "metadata": {
        "id": "cpx8KmKEtCMS"
      }
    },
    {
      "cell_type": "code",
      "source": [
        "import cupy as cp\n",
        "import matplotlib.pyplot as plt\n",
        "import seaborn as sns\n",
        "import pandas as pd\n",
        "\n",
        "# Stack the data into a CuPy matrix\n",
        "data_matrix = cp.vstack([num_genres, avg_rating, num_votes, release_year]).T\n",
        "\n",
        "# Compute the correlation matrix using CuPy\n",
        "corr_matrix = cp.corrcoef(data_matrix, rowvar=False)\n",
        "\n",
        "# Convert the result to a pandas DataFrame for plotting\n",
        "corr_df = pd.DataFrame(cp.asnumpy(corr_matrix),\n",
        "                       columns=['numGenres', 'averageRating', 'numVotes', 'releaseYear'],\n",
        "                       index=['numGenres', 'averageRating', 'numVotes', 'releaseYear'])\n",
        "\n",
        "# Plot heatmap\n",
        "plt.figure(figsize=(8, 6))\n",
        "sns.heatmap(corr_df, annot=True, cmap='coolwarm', fmt='.2f', linewidths=0.5)\n",
        "plt.title('Correlation Matrix (CuPy)')\n",
        "plt.show()\n"
      ],
      "metadata": {
        "colab": {
          "base_uri": "https://localhost:8080/",
          "height": 545
        },
        "id": "-4mDYPMks72u",
        "outputId": "146f09fb-69a9-44ff-9a3b-0e2d5df71316"
      },
      "execution_count": 15,
      "outputs": [
        {
          "output_type": "display_data",
          "data": {
            "text/plain": [
              "<Figure size 800x600 with 2 Axes>"
            ],
            "image/png": "[encoded data removed]"
          },
          "metadata": {}
        }
      ]
    },
    {
      "cell_type": "markdown",
      "source": [
        "**Top Genres by Frequency**"
      ],
      "metadata": {
        "id": "zswhoyqjuDIQ"
      }
    },
    {
      "cell_type": "code",
      "source": [
        "# First, convert the cuDF Series to a regular list of strings\n",
        "genres_list = df['genres'].to_pandas().dropna().str.split(',')\n",
        "\n",
        "# Flatten the list of genre lists and count each genre\n",
        "from collections import Counter\n",
        "flat_genres = [genre.strip() for sublist in genres_list for genre in sublist]\n",
        "genre_counts = Counter(flat_genres)\n",
        "\n",
        "# Convert to DataFrame and plot\n",
        "genre_df = pd.DataFrame(genre_counts.items(), columns=['Genre', 'Count']).sort_values(by='Count', ascending=False)\n",
        "\n",
        "# Plot\n",
        "plt.figure(figsize=(12, 6))\n",
        "sns.barplot(data=genre_df.head(15), x='Genre', y='Count', palette='viridis')\n",
        "plt.title('Top 15 Genres')\n",
        "plt.xticks(rotation=45)\n",
        "plt.tight_layout()\n",
        "plt.show()\n"
      ],
      "metadata": {
        "colab": {
          "base_uri": "https://localhost:8080/",
          "height": 446
        },
        "id": "M1fBvp5ctFHW",
        "outputId": "0ca4e969-57e4-49be-9e13-ace829237187"
      },
      "execution_count": 16,
      "outputs": [
        {
          "output_type": "stream",
          "name": "stderr",
          "text": [
            "<ipython-input-16-8e04075cd08d>:14: FutureWarning: \n",
            "\n",
            "Passing `palette` without assigning `hue` is deprecated and will be removed in v0.14.0. Assign the `x` variable to `hue` and set `legend=False` for the same effect.\n",
            "\n",
            "  sns.barplot(data=genre_df.head(15), x='Genre', y='Count', palette='viridis')\n"
          ]
        },
        {
          "output_type": "display_data",
          "data": {
            "text/plain": [
              "<Figure size 1200x600 with 1 Axes>"
            ],
            "image/png": "[encoded data removed]"
          },
          "metadata": {}
        }
      ]
    },
    {
      "cell_type": "markdown",
      "source": [
        "**Trend of Movie Releases Over Time**"
      ],
      "metadata": {
        "id": "KPnZ7Mx2uMxV"
      }
    },
    {
      "cell_type": "code",
      "source": [
        "# Convert to pandas for easier year aggregation\n",
        "year_df = df[['releaseYear']].to_pandas().dropna()\n",
        "year_counts = year_df['releaseYear'].value_counts().sort_index()\n",
        "\n",
        "# Plot\n",
        "plt.figure(figsize=(12, 6))\n",
        "sns.lineplot(x=year_counts.index, y=year_counts.values, color='green')\n",
        "plt.title('Number of Movies Released per Year')\n",
        "plt.xlabel('Year')\n",
        "plt.ylabel('Count')\n",
        "plt.grid(True)\n",
        "plt.tight_layout()\n",
        "plt.show()"
      ],
      "metadata": {
        "colab": {
          "base_uri": "https://localhost:8080/",
          "height": 341
        },
        "id": "F6qbCVfvt_eg",
        "outputId": "bfc35c42-5b00-4eab-9ea4-bfa875d9a4bf"
      },
      "execution_count": 17,
      "outputs": [
        {
          "output_type": "display_data",
          "data": {
            "text/plain": [
              "<Figure size 1200x600 with 1 Axes>"
            ],
            "image/png": "[encoded data removed]"
          },
          "metadata": {}
        }
      ]
    },
    {
      "cell_type": "markdown",
      "source": [
        "**Use cuML for Regression**"
      ],
      "metadata": {
        "id": "ggfwZlR5uVx9"
      }
    },
    {
      "cell_type": "code",
      "source": [
        "from cuml.linear_model import LinearRegression\n",
        "from sklearn.model_selection import train_test_split\n",
        "\n",
        "# Prepare the DataFrame (make sure all features are numeric and clean)\n",
        "X = df[['numGenres', 'numVotes', 'releaseYear']].dropna()\n",
        "y = df['averageRating'].loc[X.index]\n",
        "\n",
        "# Split the data (use pandas since cuml accepts pandas or cudf)\n",
        "X_train, X_test, y_train, y_test = train_test_split(X.to_pandas(), y.to_pandas(), test_size=0.2, random_state=42)\n"
      ],
      "metadata": {
        "id": "8VgSbuYJuNqM"
      },
      "execution_count": 18,
      "outputs": []
    },
    {
      "cell_type": "code",
      "source": [
        "# Convert to cuDF for cuML\n",
        "X_train_cudf = cudf.DataFrame.from_pandas(X_train)\n",
        "X_test_cudf = cudf.DataFrame.from_pandas(X_test)\n",
        "y_train_cudf = cudf.Series(y_train)\n",
        "y_test_cudf = cudf.Series(y_test)\n",
        "\n",
        "# Train\n",
        "model = LinearRegression()\n",
        "model.fit(X_train_cudf, y_train_cudf)\n",
        "\n",
        "# Predict and evaluate\n",
        "y_pred = model.predict(X_test_cudf)\n",
        "\n",
        "from cuml.metrics import r2_score\n",
        "r2 = r2_score(y_test_cudf, y_pred)\n",
        "print(f\"R² score (GPU): {r2:.4f}\")"
      ],
      "metadata": {
        "colab": {
          "base_uri": "https://localhost:8080/"
        },
        "id": "kb6ODIj8ufdE",
        "outputId": "d000d3b0-9898-422e-d229-0accb425f072"
      },
      "execution_count": 19,
      "outputs": [
        {
          "output_type": "stream",
          "name": "stdout",
          "text": [
            "R² score (GPU): 0.0141\n"
          ]
        }
      ]
    },
    {
      "cell_type": "code",
      "source": [
        "import numpy as np\n",
        "df['logVotes'] = cudf.Series(np.log1p(df['numVotes'].to_pandas()))"
      ],
      "metadata": {
        "id": "wCx1hGabug9B"
      },
      "execution_count": 20,
      "outputs": []
    },
    {
      "cell_type": "code",
      "source": [
        "df['type_encoded'] = df['type'].astype('category').cat.codes"
      ],
      "metadata": {
        "id": "q_6YF695uuGS"
      },
      "execution_count": 21,
      "outputs": []
    },
    {
      "cell_type": "code",
      "source": [
        "top_genres = ['Action', 'Drama', 'Comedy', 'Thriller', 'Romance']\n",
        "for genre in top_genres:\n",
        "    df[f'genre_{genre}'] = df['genres'].str.contains(genre).fillna(False).astype('int8')\n"
      ],
      "metadata": {
        "id": "YbIAGgKYuvkn"
      },
      "execution_count": 22,
      "outputs": []
    },
    {
      "cell_type": "code",
      "source": [
        "features = ['numGenres', 'logVotes', 'releaseYear', 'type_encoded'] + [f'genre_{g}' for g in top_genres]\n",
        "X = df[features].dropna()\n",
        "y = df['averageRating'].loc[X.index]\n",
        "\n",
        "# Split\n",
        "from sklearn.model_selection import train_test_split\n",
        "X_train, X_test, y_train, y_test = train_test_split(X.to_pandas(), y.to_pandas(), test_size=0.2, random_state=42)\n",
        "\n",
        "# Convert back to cuDF\n",
        "X_train_cudf = cudf.DataFrame.from_pandas(X_train)\n",
        "X_test_cudf = cudf.DataFrame.from_pandas(X_test)\n",
        "y_train_cudf = cudf.Series(y_train)\n",
        "y_test_cudf = cudf.Series(y_test)\n",
        "\n",
        "# Train\n",
        "from cuml.linear_model import LinearRegression\n",
        "model = LinearRegression()\n",
        "model.fit(X_train_cudf, y_train_cudf)\n",
        "\n",
        "# Predict & Score\n",
        "y_pred = model.predict(X_test_cudf)\n",
        "from cuml.metrics import r2_score\n",
        "r2 = r2_score(y_test_cudf, y_pred)\n",
        "print(f\"New R² score (GPU): {r2:.4f}\")\n"
      ],
      "metadata": {
        "colab": {
          "base_uri": "https://localhost:8080/"
        },
        "id": "MgTucT1kuxJY",
        "outputId": "a1794f38-fb02-4bc5-b964-3c9986048b86"
      },
      "execution_count": 23,
      "outputs": [
        {
          "output_type": "stream",
          "name": "stdout",
          "text": [
            "New R² score (GPU): 0.0727\n"
          ]
        }
      ]
    },
    {
      "cell_type": "code",
      "source": [
        "from cuml.ensemble import RandomForestRegressor\n",
        "\n",
        "rf = RandomForestRegressor(n_estimators=100, max_depth=12)\n",
        "rf.fit(X_train_cudf, y_train_cudf)\n",
        "y_pred_rf = rf.predict(X_test_cudf)\n",
        "\n",
        "r2_rf = r2_score(y_test_cudf, y_pred_rf)\n",
        "print(f\"Random Forest R² score (GPU): {r2_rf:.4f}\")\n"
      ],
      "metadata": {
        "colab": {
          "base_uri": "https://localhost:8080/"
        },
        "id": "kMwmS9AZuzCo",
        "outputId": "63972906-2def-4fa3-ca47-0027c7d3d05d"
      },
      "execution_count": 24,
      "outputs": [
        {
          "output_type": "stream",
          "name": "stdout",
          "text": [
            "Random Forest R² score (GPU): 0.1690\n"
          ]
        }
      ]
    },
    {
      "cell_type": "code",
      "source": [
        "import cudf\n",
        "\n",
        "# Split and explode genres\n",
        "genres_split = df['genres'].str.split(',')\n",
        "genres_exploded = genres_split.explode()\n",
        "\n",
        "# Get top 10 most frequent genres\n",
        "top_genres = genres_exploded.value_counts().head(10).index.to_pandas()\n",
        "\n",
        "# Add binary columns for top genres\n",
        "for genre in top_genres:\n",
        "    df[f'genre_{genre}'] = df['genres'].str.contains(genre).fillna(False).astype('int8')"
      ],
      "metadata": {
        "id": "fNvOh3cRvZPx"
      },
      "execution_count": 25,
      "outputs": []
    },
    {
      "cell_type": "markdown",
      "source": [
        "**Define Feature Set**"
      ],
      "metadata": {
        "id": "9GwDX3nHwGnE"
      }
    },
    {
      "cell_type": "code",
      "source": [
        "# Define feature columns\n",
        "genre_cols = [f'genre_{g}' for g in top_genres]\n",
        "feature_cols = ['numGenres', 'numVotes', 'releaseYear'] + genre_cols\n",
        "\n",
        "# Extract features and target\n",
        "X = df[feature_cols]\n",
        "y = df['averageRating']"
      ],
      "metadata": {
        "id": "reMICCpbvrB1"
      },
      "execution_count": 26,
      "outputs": []
    },
    {
      "cell_type": "markdown",
      "source": [
        "**Train/Test Split (80/20)**"
      ],
      "metadata": {
        "id": "tQgn6ec9wC9K"
      }
    },
    {
      "cell_type": "code",
      "source": [
        "from cuml.model_selection import train_test_split\n",
        "\n",
        "X_train, X_test, y_train, y_test = train_test_split(X, y, test_size=0.2)"
      ],
      "metadata": {
        "id": "vGsc727qv0gd"
      },
      "execution_count": 27,
      "outputs": []
    },
    {
      "cell_type": "markdown",
      "source": [
        "**Train Random Forest on GPU**"
      ],
      "metadata": {
        "id": "QNbKTdVwv8ej"
      }
    },
    {
      "cell_type": "code",
      "source": [
        "import cupy as cp\n",
        "from sklearn.metrics import r2_score\n",
        "\n",
        "def permutation_importance(model, X, y_cudf, metric=r2_score):\n",
        "    # Ensure y is CuPy array\n",
        "    y = y_cudf.to_cupy()\n",
        "    base_score = metric(y.get(), model.predict(X).to_cupy().get())  # Convert to NumPy arrays\n",
        "    importances = []\n",
        "\n",
        "    for col in X.columns:\n",
        "        X_permuted = X.copy(deep=True)\n",
        "        X_permuted[col] = cp.random.permutation(X[col].to_cupy())\n",
        "        score = metric(y.get(), model.predict(X_permuted).to_cupy().get())  # Convert to NumPy arrays\n",
        "        importances.append(base_score - score)\n",
        "\n",
        "    return cp.array(importances)\n",
        "\n",
        "# Run permutation importance\n",
        "importances = permutation_importance(rf, X_test, y_test)\n",
        "\n",
        "# Convert to CPU for plotting\n",
        "importances_cpu = importances.get()\n",
        "\n",
        "# Plot\n",
        "import matplotlib.pyplot as plt\n",
        "import seaborn as sns\n",
        "\n",
        "plt.figure(figsize=(12, 6))\n",
        "sns.barplot(x=importances_cpu, y=feature_cols)\n",
        "plt.title('Permutation Feature Importances (Random Forest - cuML)')\n",
        "plt.xlabel('Drop in R² Score')\n",
        "plt.ylabel('Feature')\n",
        "plt.tight_layout()\n",
        "plt.show()"
      ],
      "metadata": {
        "colab": {
          "base_uri": "https://localhost:8080/",
          "height": 341
        },
        "id": "FbjU0bxewOr3",
        "outputId": "833c8546-048d-422b-d396-727de8686cdc"
      },
      "execution_count": 28,
      "outputs": [
        {
          "output_type": "display_data",
          "data": {
            "text/plain": [
              "<Figure size 1200x600 with 1 Axes>"
            ],
            "image/png": "[encoded data removed]"
          },
          "metadata": {}
        }
      ]
    },
    {
      "cell_type": "markdown",
      "source": [
        "**Gradient Boosting Regressor**"
      ],
      "metadata": {
        "id": "DXJ_VxlqeLF_"
      }
    },
    {
      "cell_type": "code",
      "source": [
        "import cupy as cp\n",
        "from sklearn.ensemble import GradientBoostingRegressor\n",
        "from sklearn.metrics import r2_score  # Use sklearn's r2_score since we are converting to NumPy\n",
        "\n",
        "# Convert cuDF DataFrame to CuPy arrays for GPU-accelerated computation\n",
        "X_train_cp = X_train.to_cupy()\n",
        "y_train_cp = y_train.to_cupy()\n",
        "X_test_cp = X_test.to_cupy()\n",
        "y_test_cp = y_test.to_cupy()  # Ensure y_test is also converted to CuPy\n",
        "\n",
        "# Convert CuPy arrays to NumPy arrays for sklearn compatibility\n",
        "X_train_np = X_train_cp.get()\n",
        "y_train_np = y_train_cp.get()\n",
        "X_test_np = X_test_cp.get()\n",
        "y_test_np = y_test_cp.get()  # Ensure y_test is converted to NumPy\n",
        "\n",
        "# Create the GradientBoostingRegressor model\n",
        "gbr = GradientBoostingRegressor(n_estimators=100, max_depth=8)\n",
        "\n",
        "# Fit the model on the training data\n",
        "gbr.fit(X_train_np, y_train_np)\n",
        "\n",
        "# Make predictions\n",
        "y_pred_gbr = gbr.predict(X_test_np)\n",
        "\n",
        "# Calculate R² score using sklearn's r2_score\n",
        "r2_gbr = r2_score(y_test_np, y_pred_gbr)\n",
        "print(f\"Gradient Boosted R² score (GPU): {r2_gbr:.4f}\")"
      ],
      "metadata": {
        "colab": {
          "base_uri": "https://localhost:8080/"
        },
        "id": "dhWzouUIwkD1",
        "outputId": "797e6216-4d73-4c8e-f2d4-6b45ee982b58"
      },
      "execution_count": 29,
      "outputs": [
        {
          "output_type": "stream",
          "name": "stdout",
          "text": [
            "Gradient Boosted R² score (GPU): 0.1673\n"
          ]
        }
      ]
    },
    {
      "cell_type": "code",
      "source": [
        "from joblib import dump\n",
        "\n",
        "dump(gbr, 'best_gbr_model.joblib')"
      ],
      "metadata": {
        "colab": {
          "base_uri": "https://localhost:8080/"
        },
        "id": "bifc_YEz6151",
        "outputId": "651d56cf-0fc6-4489-c495-11b54a028d13"
      },
      "execution_count": 43,
      "outputs": [
        {
          "output_type": "execute_result",
          "data": {
            "text/plain": [
              "['best_gbr_model.joblib']"
            ]
          },
          "metadata": {},
          "execution_count": 43
        }
      ]
    },
    {
      "cell_type": "code",
      "source": [
        "from joblib import load\n",
        "\n",
        "loaded_gbr = load('best_gbr_model.joblib')\n",
        "y_pred_loaded = loaded_gbr.predict(X_test_np)"
      ],
      "metadata": {
        "id": "bo3p4Qg7638q"
      },
      "execution_count": 44,
      "outputs": []
    },
    {
      "cell_type": "markdown",
      "source": [
        "**GPU-accelerated Support Vector Machine Regressor (SVM)**"
      ],
      "metadata": {
        "id": "c0sCxTPQy3V4"
      }
    },
    {
      "cell_type": "code",
      "source": [
        "from cuml.svm import SVR as cumlSVR\n",
        "from cuml.metrics import r2_score\n",
        "\n",
        "# Convert cuDF DataFrame to CuPy arrays for GPU-accelerated computation\n",
        "X_train_cp = X_train.astype('float32').to_cupy()  # Convert to float32\n",
        "y_train_cp = y_train.astype('float32').to_cupy()  # Convert to float32\n",
        "X_test_cp = X_test.astype('float32').to_cupy()    # Convert to float32\n",
        "\n",
        "# Create the GPU-accelerated Support Vector Regressor (SVR) model\n",
        "svr = cumlSVR(kernel='rbf', C=1.0, epsilon=0.1)\n",
        "\n",
        "# Fit the model on the training data\n",
        "svr.fit(X_train_cp, y_train_cp)\n",
        "\n",
        "# Make predictions\n",
        "y_pred_svr = svr.predict(X_test_cp)\n",
        "\n",
        "# Calculate R² score using cuML's r2_score\n",
        "r2_svr = r2_score(y_test_cp, y_pred_svr)\n",
        "print(f\" SVM Regressor R² score (GPU): {r2_svr:.4f}\")"
      ],
      "metadata": {
        "colab": {
          "base_uri": "https://localhost:8080/"
        },
        "id": "vScucM7ey4s5",
        "outputId": "6e8902ed-439e-47ce-cdd0-339837b942a2"
      },
      "execution_count": 30,
      "outputs": [
        {
          "output_type": "stream",
          "name": "stdout",
          "text": [
            " SVM Regressor R² score (GPU): 0.0076\n"
          ]
        }
      ]
    },
    {
      "cell_type": "code",
      "source": [
        "from joblib import dump\n",
        "dump(svr, 'best_svr_model.joblib')"
      ],
      "metadata": {
        "colab": {
          "base_uri": "https://localhost:8080/"
        },
        "id": "kD3WnfI86ku7",
        "outputId": "f0986a8e-36f0-4912-bfc8-2dc60759b075"
      },
      "execution_count": 41,
      "outputs": [
        {
          "output_type": "execute_result",
          "data": {
            "text/plain": [
              "['best_svr_model.joblib']"
            ]
          },
          "metadata": {},
          "execution_count": 41
        }
      ]
    },
    {
      "cell_type": "code",
      "source": [
        "from joblib import load\n",
        "loaded_svr = load('best_svr_model.joblib')"
      ],
      "metadata": {
        "id": "IjLIfSvA6m6N"
      },
      "execution_count": 42,
      "outputs": []
    },
    {
      "cell_type": "markdown",
      "source": [
        "**GPU-accelerated KMeans Clustering**"
      ],
      "metadata": {
        "id": "J3hoovuzzJjx"
      }
    },
    {
      "cell_type": "code",
      "source": [
        "from cuml.cluster import KMeans as cumlKMeans\n",
        "import matplotlib.pyplot as plt\n",
        "\n",
        "# Convert cuDF DataFrame to CuPy arrays for GPU-accelerated computation\n",
        "X_train_cp = X_train.to_cupy()\n",
        "\n",
        "# Create the KMeans clustering model\n",
        "kmeans = cumlKMeans(n_clusters=5, random_state=42)\n",
        "\n",
        "# Fit the model on the training data\n",
        "kmeans.fit(X_train_cp)\n",
        "\n",
        "# Predict the cluster centers\n",
        "cluster_centers = kmeans.cluster_centers_\n",
        "\n",
        "# Predict the clusters for each data point\n",
        "labels = kmeans.predict(X_train_cp)\n",
        "\n",
        "# Plot the clusters (2D example)\n",
        "plt.scatter(X_train_cp[:, 0].get(), X_train_cp[:, 1].get(), c=labels.get(), cmap='viridis')\n",
        "plt.scatter(cluster_centers[:, 0].get(), cluster_centers[:, 1].get(), marker='x', color='red', s=200, label='Centroids')\n",
        "plt.title('KMeans Clustering (GPU)')\n",
        "plt.xlabel('Feature 1')\n",
        "plt.ylabel('Feature 2')\n",
        "plt.legend()\n",
        "plt.show()"
      ],
      "metadata": {
        "colab": {
          "base_uri": "https://localhost:8080/",
          "height": 560
        },
        "id": "QyyFtPyOxfvs",
        "outputId": "b8e01ce1-daaa-45bf-e879-4f2452123e40"
      },
      "execution_count": 31,
      "outputs": [
        {
          "output_type": "stream",
          "name": "stderr",
          "text": [
            "/usr/local/lib/python3.11/dist-packages/cuml/internals/api_decorators.py:195: FutureWarning: The default value of `n_init` will change from 1 to 'auto' in 25.04. Set the value of `n_init` explicitly to suppress this warning.\n",
            "  return func(*args, **kwargs)\n",
            "/usr/local/lib/python3.11/dist-packages/cuml/internals/api_decorators.py:193: FutureWarning: The default value of `n_init` will change from 1 to 'auto' in 25.04. Set the value of `n_init` explicitly to suppress this warning.\n",
            "  ret = func(*args, **kwargs)\n"
          ]
        },
        {
          "output_type": "display_data",
          "data": {
            "text/plain": [
              "<Figure size 640x480 with 1 Axes>"
            ],
            "image/png": "[encoded data removed]"
          },
          "metadata": {}
        }
      ]
    },
    {
      "cell_type": "code",
      "source": [
        "import cupy as cp\n",
        "from cuml.svm import SVR as cumlSVR\n",
        "from cuml.ensemble import RandomForestRegressor as cumlRF\n",
        "from cuml.metrics import r2_score\n",
        "import xgboost as xgb\n",
        "from sklearn.model_selection import train_test_split\n",
        "import cudf\n",
        "\n",
        "# Assuming the dataset `df` is already loaded and preprocessed\n",
        "# For example, if 'target' is your target column and others are features\n",
        "X = df.drop(columns='averageRating')  # Replace 'target' with your actual target column name\n",
        "y = df['averageRating']  # Replace 'target' with your actual target column name"
      ],
      "metadata": {
        "id": "OosZjH9riAOD"
      },
      "execution_count": 32,
      "outputs": []
    },
    {
      "cell_type": "code",
      "source": [
        "# Ensure categorical columns in both training and testing sets are one-hot encoded\n",
        "categorical_columns = ['type', 'genres']  # Specify your categorical columns here"
      ],
      "metadata": {
        "id": "5EI_WaIuiAH5"
      },
      "execution_count": 33,
      "outputs": []
    },
    {
      "cell_type": "code",
      "source": [
        "# Apply one-hot encoding to both training and testing sets\n",
        "X_encoded = cudf.get_dummies(X, columns=categorical_columns, drop_first=True)"
      ],
      "metadata": {
        "id": "GbjN56S4iACC"
      },
      "execution_count": 34,
      "outputs": []
    },
    {
      "cell_type": "code",
      "source": [
        "# Split the data into training and test sets\n",
        "X_train, X_test, y_train, y_test = train_test_split(X_encoded, y, test_size=0.2, random_state=42)"
      ],
      "metadata": {
        "colab": {
          "base_uri": "https://localhost:8080/"
        },
        "id": "QhAcP_H4h_5W",
        "outputId": "dd755858-be1f-49f0-e114-bf1d94180b18"
      },
      "execution_count": 35,
      "outputs": [
        {
          "output_type": "stream",
          "name": "stderr",
          "text": [
            "/usr/local/lib/python3.11/dist-packages/cudf/core/dataframe.py:7737: FutureWarning: Using `__dataframe__` is deprecated\n",
            "  warnings.warn(\"Using `__dataframe__` is deprecated\", FutureWarning)\n"
          ]
        }
      ]
    },
    {
      "cell_type": "code",
      "source": [
        "# Now ensure both training and testing sets are of numeric type\n",
        "X_train_encoded = X_train.select_dtypes(include=['float32', 'float64'])\n",
        "X_test_encoded = X_test.select_dtypes(include=['float32', 'float64'])"
      ],
      "metadata": {
        "id": "57w4WLl7iNk8"
      },
      "execution_count": 36,
      "outputs": []
    },
    {
      "cell_type": "code",
      "source": [
        "# Convert to CuPy arrays for GPU processing\n",
        "X_train_cp = X_train_encoded.astype('float32').to_cupy()\n",
        "y_train_cp = y_train.astype('float32').to_cupy()\n",
        "X_test_cp = X_test_encoded.astype('float32').to_cupy()\n",
        "y_test_cp = y_test.astype('float32').to_cupy()"
      ],
      "metadata": {
        "id": "Olyc2ooYiQL9"
      },
      "execution_count": 37,
      "outputs": []
    },
    {
      "cell_type": "markdown",
      "source": [
        "**XGBoost**"
      ],
      "metadata": {
        "id": "qM_HvZ7w4_9R"
      }
    },
    {
      "cell_type": "code",
      "source": [
        "# XGBoost (GPU)\n",
        "dtrain = xgb.DMatrix(X_train_cp, label=y_train_cp)\n",
        "dtest = xgb.DMatrix(X_test_cp, label=y_test_cp)\n",
        "\n",
        "params = {\n",
        "    'objective': 'reg:squarederror',\n",
        "    'tree_method': 'hist',\n",
        "    'device': 'cuda',\n",
        "    'eval_metric': 'rmse'\n",
        "}\n",
        "xgb_model = xgb.train(params, dtrain, num_boost_round=100)\n",
        "y_pred_xgb = xgb_model.predict(dtest)\n",
        "r2_xgb = r2_score(y_test_cp, y_pred_xgb)\n",
        "print(f\"🌟 XGBoost R² score (GPU): {r2_xgb:.4f}\")"
      ],
      "metadata": {
        "colab": {
          "base_uri": "https://localhost:8080/"
        },
        "id": "2SZVCq4_iYxi",
        "outputId": "06b49a3c-6f1a-470a-efef-b621d4f3f052"
      },
      "execution_count": 38,
      "outputs": [
        {
          "output_type": "stream",
          "name": "stdout",
          "text": [
            "🌟 XGBoost R² score (GPU): 0.0337\n"
          ]
        }
      ]
    },
    {
      "cell_type": "code",
      "source": [
        "from joblib import dump\n",
        "dump(xgb_model, 'best_model_xgb.joblib')"
      ],
      "metadata": {
        "id": "_ukwHGt_1_Zw",
        "colab": {
          "base_uri": "https://localhost:8080/"
        },
        "outputId": "9cd48a1a-ac85-4848-9f36-d452f081a811"
      },
      "execution_count": 39,
      "outputs": [
        {
          "output_type": "execute_result",
          "data": {
            "text/plain": [
              "['best_model_xgb.joblib']"
            ]
          },
          "metadata": {},
          "execution_count": 39
        }
      ]
    },
    {
      "cell_type": "code",
      "source": [
        "from joblib import load\n",
        "loaded_model = load('best_model_xgb.joblib')"
      ],
      "metadata": {
        "id": "ik5mO6Or6W3t"
      },
      "execution_count": 40,
      "outputs": []
    },
    {
      "cell_type": "code",
      "source": [
        "from xgboost import XGBRegressor\n",
        "from sklearn.model_selection import GridSearchCV\n",
        "from sklearn.metrics import r2_score\n",
        "from joblib import dump\n",
        "\n",
        "# Convert to NumPy arrays for scikit-learn compatibility\n",
        "X_train_np = X_train_cp.get()\n",
        "y_train_np = y_train_cp.get()\n",
        "X_test_np = X_test_cp.get()\n",
        "y_test_np = y_test_cp.get()\n",
        "\n",
        "# Define the model\n",
        "xgb_reg = XGBRegressor(\n",
        "    objective='reg:squarederror',\n",
        "    tree_method='hist',  # Use 'gpu_hist' if you're sure GPU is available\n",
        "    predictor='gpu_predictor',\n",
        "    device='cuda'\n",
        ")\n",
        "\n",
        "# Define hyperparameter grid\n",
        "param_grid = {\n",
        "    'n_estimators': [100, 200],\n",
        "    'max_depth': [4, 6, 8],\n",
        "    'learning_rate': [0.01, 0.1, 0.3],\n",
        "    'subsample': [0.8, 1.0],\n",
        "    'colsample_bytree': [0.8, 1.0]\n",
        "}\n",
        "\n",
        "# Grid search with 3-fold cross-validation\n",
        "grid = GridSearchCV(xgb_reg, param_grid, scoring='r2', cv=3, verbose=1, n_jobs=-1)\n",
        "grid.fit(X_train_np, y_train_np)\n",
        "\n",
        "# Best model and score\n",
        "print(\"✅ Best parameters:\", grid.best_params_)\n",
        "print(f\"✅ Best CV R²: {grid.best_score_:.4f}\")\n",
        "\n",
        "# Evaluate on test set\n",
        "best_model = grid.best_estimator_\n",
        "y_pred_best = best_model.predict(X_test_np)\n",
        "r2_best = r2_score(y_test_np, y_pred_best)\n",
        "print(f\"🌟 XGBoost Best R² score (on test set): {r2_best:.4f}\")\n",
        "\n",
        "# Save the best model\n",
        "dump(best_model, 'best_xgb_model_gridsearch.joblib')\n"
      ],
      "metadata": {
        "colab": {
          "base_uri": "https://localhost:8080/"
        },
        "id": "eoIYjahp6abX",
        "outputId": "aec0eadd-33d4-47bc-f695-8a36710a5f23"
      },
      "execution_count": 45,
      "outputs": [
        {
          "output_type": "stream",
          "name": "stdout",
          "text": [
            "Fitting 3 folds for each of 72 candidates, totalling 216 fits\n",
            "✅ Best parameters: {'colsample_bytree': 0.8, 'learning_rate': 0.1, 'max_depth': 4, 'n_estimators': 100, 'subsample': 1.0}\n",
            "✅ Best CV R²: 0.0322\n",
            "🌟 XGBoost Best R² score (on test set): 0.0339\n"
          ]
        },
        {
          "output_type": "stream",
          "name": "stderr",
          "text": [
            "/usr/local/lib/python3.11/dist-packages/xgboost/core.py:158: UserWarning: [12:49:05] WARNING: /workspace/src/learner.cc:740: \n",
            "Parameters: { \"predictor\" } are not used.\n",
            "\n",
            "  warnings.warn(smsg, UserWarning)\n",
            "/usr/local/lib/python3.11/dist-packages/xgboost/core.py:158: UserWarning: [12:49:05] WARNING: /workspace/src/common/error_msg.cc:58: Falling back to prediction using DMatrix due to mismatched devices. This might lead to higher memory usage and slower performance. XGBoost is running on: cuda:0, while the input data is on: cpu.\n",
            "Potential solutions:\n",
            "- Use a data structure that matches the device ordinal in the booster.\n",
            "- Set the device for booster before call to inplace_predict.\n",
            "\n",
            "This warning will only be shown once.\n",
            "\n",
            "  warnings.warn(smsg, UserWarning)\n"
          ]
        },
        {
          "output_type": "execute_result",
          "data": {
            "text/plain": [
              "['best_xgb_model_gridsearch.joblib']"
            ]
          },
          "metadata": {},
          "execution_count": 45
        }
      ]
    },
    {
      "cell_type": "code",
      "source": [
        "import xgboost as xgb\n",
        "\n",
        "# Convert NumPy to DMatrix for proper GPU prediction\n",
        "dtest_gpu = xgb.DMatrix(X_test_np, missing=np.nan)\n",
        "\n",
        "# Predict using booster directly\n",
        "booster = best_model.get_booster()  # from sklearn XGBRegressor\n",
        "y_pred_dmatrix = booster.predict(dtest_gpu)"
      ],
      "metadata": {
        "id": "Q7VmllI27uJM"
      },
      "execution_count": 46,
      "outputs": []
    },
    {
      "cell_type": "code",
      "source": [],
      "metadata": {
        "id": "1YJDqiUj9AuE"
      },
      "execution_count": null,
      "outputs": []
    }
  ]
}